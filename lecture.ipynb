{
 "cells": [
  {
   "cell_type": "markdown",
   "metadata": {
    "slideshow": {
     "slide_type": "slide"
    }
   },
   "source": [
    "# Numerical Methods in Accelerator Physics\n",
    "\n",
    "### Demo lecture: phase-space tomography\n",
    "\n",
    "<br />\n",
    "\n",
    "##### Notebook lecture by [Dr. Adrian Oeftiger $\\nearrow$](http://web-docs.gsi.de/~aoeftige)\n",
    "\n",
    "at TU Darmstadt etit, Fachbereichsrats-Sitzung, on 27.09.2022.\n",
    "\n",
    "<br />\n",
    "<center>\n",
    "    <small>(hit space to go to the next slide)</small>\n",
    "</center>"
   ]
  },
  {
   "cell_type": "markdown",
   "metadata": {
    "slideshow": {
     "slide_type": "slide"
    }
   },
   "source": [
    "#### Run this notebook online:\n",
    "\n",
    "[![Binder](https://mybinder.org/badge_logo.svg)](https://mybinder.org/v2/gh/aoeftiger/TUDa-demo-lecture-tomo/v1.1?labpath=lecture.ipynb)\n",
    "\n",
    "Also find this lecture rendered [on github $\\nearrow$](https://aoeftiger.github.io/TUDa-demo-lecture-tomo/) along with the [source repository $\\nearrow$](https://github.com/aoeftiger/TUDa-demo-lecture-tomo/):\n",
    "\n",
    "https://github.com/aoeftiger/TUDa-demo-lecture-tomo"
   ]
  },
  {
   "cell_type": "markdown",
   "metadata": {
    "slideshow": {
     "slide_type": "slide"
    }
   },
   "source": [
    "# Tomographic Reconstruction\n",
    "\n",
    "<b>\"Tomography\"</b>: imaging via sectioning\n",
    "\n",
    "<b>Origins</b>: mathematician J. Radon (AUT)\n",
    "- 1917: \"On the determination of functions from their integrals along certain manifolds\"\n",
    "- inverse problem\n",
    "- <b>Fourier slice theorem</b>: any 2D (3D) object can be reconstructed from infinite set of 1D (2D) projections"
   ]
  },
  {
   "cell_type": "markdown",
   "metadata": {
    "slideshow": {
     "slide_type": "slide"
    }
   },
   "source": [
    "<div style=\"float:right; width:15%;\">\n",
    "    <a title=\"daveynin from United States, CC BY 2.0 &lt;https://creativecommons.org/licenses/by/2.0&gt;, via Wikimedia Commons\" href=\"https://commons.wikimedia.org/wiki/File:UPMCEast_CTscan.jpg\"><img src=\"https://upload.wikimedia.org/wikipedia/commons/thumb/2/27/UPMCEast_CTscan.jpg/800px-UPMCEast_CTscan.jpg\" alt=\"CT scanner\" style=\"width:100%;\" /></a>\n",
    "    <a title=\"Arielinson, CC BY-SA 4.0 &lt;https://creativecommons.org/licenses/by-sa/4.0&gt;, via Wikimedia Commons\" href=\"https://commons.wikimedia.org/wiki/File:3d_CT_scan_animation.gif\"><img src=\"https://upload.wikimedia.org/wikipedia/commons/6/68/3d_CT_scan_animation.gif\" alt=\"Reconstructed CT scan\" style=\"width:100%;\" /></a>\n",
    "    <img src=\"img/tomo.png\" alt=\"Phase-space tomography at CERN PSB\" style=\"width:100%;\" />\n",
    "<!--<a title=\"LucasVB, CC0, via Wikimedia Commons\" href=\"https://commons.wikimedia.org/wiki/File:Radon_transform_sinogram.gif\"><img alt=\"Radon transform sinogram\" src=\"https://upload.wikimedia.org/wikipedia/commons/9/93/Radon_transform_sinogram.gif\" style=\"width:100%;\" /></a>-->\n",
    "</div>\n",
    "\n",
    "# Many applications\n",
    "\n",
    "- medical: CT scan in hospitals (computed tomography)\n",
    "    - 1979 Nobel price in Medicine: <br /> first CT scanner by Sir G.N. Hounsfield\n",
    "- material science\n",
    "- airport security\n",
    "- accelerator physics\n",
    "- ..."
   ]
  },
  {
   "cell_type": "markdown",
   "metadata": {
    "slideshow": {
     "slide_type": "slide"
    }
   },
   "source": [
    "# Projection Integral or Radon Transform $\\mathcal{R}_\\theta(p)$\n",
    "\n",
    "$$\\require{color}\n",
    "\\mathcal{R}_\\theta(p)\\, f = \\int dx\\int dy~ f(x, y) \\,\\underbrace{\\delta(x\\,\\cos \\theta+y\\,\\sin\\theta-p)}\\limits_{\\color{red}\\text{projection slice}}$$\n",
    "\n",
    "<img src=\"img/radon.png\" alt=\"Radon transform\" style=\"width:30%;margin:auto;\" />\n",
    "\n",
    "<p style=\"font-size: small; text-align: right;\">image source: <a href=\"https://twitter.com/docmilanfar/status/1366229985975930881/photo/1\">@docmilanfar, Twitter</a></p>"
   ]
  },
  {
   "cell_type": "code",
   "execution_count": null,
   "metadata": {
    "slideshow": {
     "slide_type": "slide"
    }
   },
   "outputs": [],
   "source": [
    "# imports\n",
    "from talksetup import *\n",
    "%matplotlib inline\n",
    "\n",
    "from skimage.transform import radon, iradon\n",
    "from PIL import Image"
   ]
  },
  {
   "cell_type": "markdown",
   "metadata": {},
   "source": [
    "Load sample image for the tomography:"
   ]
  },
  {
   "cell_type": "code",
   "execution_count": null,
   "metadata": {},
   "outputs": [],
   "source": [
    "data = ~np.array(Image.open('etit_logo.png').convert('1', dither=False))\n",
    "\n",
    "plt.imshow(data, cmap='binary')"
   ]
  },
  {
   "cell_type": "markdown",
   "metadata": {
    "slideshow": {
     "slide_type": "slide"
    }
   },
   "source": [
    "Compute the Radon transform at an angle of 0 deg and 30 deg:"
   ]
  },
  {
   "cell_type": "code",
   "execution_count": null,
   "metadata": {},
   "outputs": [],
   "source": [
    "Rf_0 = radon(data, [0], circle=False).astype(float)\n",
    "Rf_90 = radon(data, [90], circle=False).astype(float)\n",
    "\n",
    "plt.plot(Rf_0, label='0 deg')\n",
    "plt.plot(Rf_90, label='90 deg')\n",
    "plt.legend()\n",
    "plt.xlabel('$p$')\n",
    "plt.ylabel(r'$\\mathcal{R}_{\\theta}(p)f$');"
   ]
  },
  {
   "cell_type": "markdown",
   "metadata": {
    "slideshow": {
     "slide_type": "slide"
    }
   },
   "source": [
    "# Reconstruction Principle\n",
    "\n",
    "<img src=\"img/iter1.gif\" alt=\"projection\" style=\"width:20%;float:left;margin-right:5%;margin-left:2.5%;margin-bottom:1em;margin-top:1em;\" />\n",
    "<img src=\"img/iter2.gif\" alt=\"back-projection\" style=\"width:20%;float:left;margin-right:5%;margin-bottom:1em;margin-top:1em;\" />\n",
    "\n",
    "<p style=\"clear: both; font-size: small; text-align: right; margin-top:1em;\">images source: <a href=\"https://tomograp.web.cern.ch/home_page/iter_tomo/iter_tomo/\">CERN tomography website</a></p>\n",
    "\n",
    "projection (measurement) $\\implies$ back-projection (reconstruction) \n",
    "\n",
    "(Require $ N_{meas} \\gtrsim \\pi\\cdot\\frac{\\text{total diameter}}{\\text{pixel size}}$)"
   ]
  },
  {
   "cell_type": "markdown",
   "metadata": {
    "slideshow": {
     "slide_type": "slide"
    }
   },
   "source": [
    "# Reconstruction Principle\n",
    "\n",
    "<img src=\"img/iter1.gif\" alt=\"projection\" style=\"width:20%;float:left;margin-right:5%;margin-left:2.5%;margin-bottom:1em;margin-top:1em;\" />\n",
    "<img src=\"img/iter2.gif\" alt=\"back-projection\" style=\"width:20%;float:left;margin-right:5%;margin-bottom:1em;margin-top:1em;\" />\n",
    "<img src=\"img/iter3.gif\" alt=\"back-projection\" style=\"width:20%;float:left;margin-right:5%;margin-bottom:1em;margin-top:1em;\" />\n",
    "<img src=\"img/iter4.gif\" alt=\"back-projection\" style=\"width:20%;float:left;margin-bottom:1em;margin-top:1em;\" />\n",
    "\n",
    "<p style=\"clear: both; font-size: small; text-align: right; margin-top:1em;\">images source: <a href=\"https://tomograp.web.cern.ch/home_page/iter_tomo/iter_tomo/\">CERN tomography website</a></p>\n",
    "\n",
    "projection (measurement) $\\implies$ back-projection (reconstruction) \n",
    "\n",
    "$\\stackrel{\\text{improve}}{\\implies}$ re-projection (red) $\\implies$ iteratively reduce discrepancy"
   ]
  },
  {
   "cell_type": "markdown",
   "metadata": {
    "slideshow": {
     "slide_type": "slide"
    }
   },
   "source": [
    "# Reconstruction Algorithms\n",
    "\n",
    "<div style=\"float:right;width:30%;\">\n",
    "<a title=\"Biomedizinische NMR Forschungs GmbH, CC BY-SA 3.0 &lt;https://creativecommons.org/licenses/by-sa/3.0&gt;, via Wikimedia Commons\" href=\"https://commons.wikimedia.org/wiki/File:Heart-direct-vs-iterative-reconstruction.png\"><img src=\"https://upload.wikimedia.org/wikipedia/commons/5/54/Heart-direct-vs-iterative-reconstruction.png\" alt=\"direct vs. iterative reconstruction\" style=\"width:100%;\" /></a>\n",
    "</div>\n",
    "\n",
    "<b>Filtered Back-Projection (FBP)</b> vs. <b>Iterative</b> Reconstruction\n",
    "\n",
    "$\\implies$ Iterative <b>algebraic reconstruction technique (ART)</b>:\n",
    "- more computationally expensive than FBP\n",
    "- more accurate, less artifacts\n",
    "- can incorporate <i>a priori</i> knowledge\n",
    "\n",
    "<!-- $$ \\sum\\limits_j A_{ij} x_j = b_i $$\n",
    "$$ x^{k+1} = x^k + \\frac{b_i - a_i\\cdot x^k}{|a_i|^2} a_i^T $$\n",
    "-->"
   ]
  },
  {
   "cell_type": "code",
   "execution_count": null,
   "metadata": {
    "slideshow": {
     "slide_type": "slide"
    }
   },
   "outputs": [],
   "source": [
    "# parameters\n",
    "N = max(data.shape)\n",
    "ANG = 180\n",
    "VIEW = 180\n",
    "THETA = np.linspace(0, ANG, VIEW, endpoint=False)"
   ]
  },
  {
   "cell_type": "code",
   "execution_count": null,
   "metadata": {},
   "outputs": [],
   "source": [
    "# definitions of matrix transforms\n",
    "A = lambda x: radon(x, THETA, circle=False).astype(float)\n",
    "AT = lambda y: iradon(y, THETA, circle=False, filter=None, \n",
    "                      output_size=N).astype(float) * 2 * len(THETA) / np.pi\n",
    "AINV = lambda y: iradon(y, THETA, circle=False, output_size=N).astype(float)"
   ]
  },
  {
   "cell_type": "code",
   "execution_count": null,
   "metadata": {
    "slideshow": {
     "slide_type": "slide"
    }
   },
   "outputs": [],
   "source": [
    "proj = A(data)"
   ]
  },
  {
   "cell_type": "code",
   "execution_count": null,
   "metadata": {},
   "outputs": [],
   "source": [
    "plt.imshow(proj.T)\n",
    "\n",
    "plt.gca().set_aspect('auto')\n",
    "plt.xlabel('Projection location [px]')\n",
    "plt.ylabel('Rotation angle [deg]')\n",
    "plt.colorbar(label='Intensity');"
   ]
  },
  {
   "cell_type": "code",
   "execution_count": null,
   "metadata": {
    "slideshow": {
     "slide_type": "slide"
    }
   },
   "outputs": [],
   "source": [
    "fbp = AINV(proj)"
   ]
  },
  {
   "cell_type": "code",
   "execution_count": null,
   "metadata": {},
   "outputs": [],
   "source": [
    "plt.imshow(fbp, cmap='binary', vmin=0, vmax=1);"
   ]
  },
  {
   "cell_type": "code",
   "execution_count": null,
   "metadata": {
    "slideshow": {
     "slide_type": "slide"
    }
   },
   "outputs": [],
   "source": [
    "noise = np.random.normal(0, 0.2 * np.max(proj), size=proj.shape)"
   ]
  },
  {
   "cell_type": "code",
   "execution_count": null,
   "metadata": {},
   "outputs": [],
   "source": [
    "proj_noise = proj + noise"
   ]
  },
  {
   "cell_type": "code",
   "execution_count": null,
   "metadata": {},
   "outputs": [],
   "source": [
    "plt.imshow(proj_noise.T)\n",
    "plt.gca().set_aspect('auto')\n",
    "plt.xlabel('Projection location [px]')\n",
    "plt.ylabel('Rotation angle [deg]')\n",
    "plt.colorbar(label='Intensity');"
   ]
  },
  {
   "cell_type": "code",
   "execution_count": null,
   "metadata": {
    "slideshow": {
     "slide_type": "slide"
    }
   },
   "outputs": [],
   "source": [
    "fbp_noise = AINV(proj_noise)"
   ]
  },
  {
   "cell_type": "code",
   "execution_count": null,
   "metadata": {},
   "outputs": [],
   "source": [
    "plt.imshow(fbp_noise, cmap='binary', vmin=0, vmax=1, interpolation='None');"
   ]
  },
  {
   "cell_type": "code",
   "execution_count": null,
   "metadata": {
    "slideshow": {
     "slide_type": "slide"
    }
   },
   "outputs": [],
   "source": [
    "def ART(A, AT, b, x, mu=1, niter=10):\n",
    "    ATA = AT(A(np.ones_like(x)))\n",
    "\n",
    "    for i in tqdm(range(niter)):\n",
    "        x = x + np.divide(mu * AT(b - A(x)), ATA)\n",
    "\n",
    "        # nonlinearity: constrain to >= 0 values\n",
    "        x[x < 0] = 0\n",
    "\n",
    "        plt.imshow(x, cmap='binary', vmin=0, vmax=1, interpolation='None')\n",
    "        plt.title(\"%d / %d\" % (i + 1, niter))\n",
    "        plt.show()\n",
    "\n",
    "    return x\n",
    "\n",
    "# initialisation\n",
    "x0 = np.zeros((N, N))\n",
    "mu = 1\n",
    "niter = 10"
   ]
  },
  {
   "cell_type": "code",
   "execution_count": null,
   "metadata": {
    "slideshow": {
     "slide_type": "slide"
    }
   },
   "outputs": [],
   "source": [
    "x_art = ART(A, AT, proj_noise, x0, mu, niter)"
   ]
  },
  {
   "cell_type": "code",
   "execution_count": null,
   "metadata": {
    "slideshow": {
     "slide_type": "slide"
    }
   },
   "outputs": [],
   "source": [
    "_, ax = plt.subplots(1, 2, figsize=(10, 5))\n",
    "plt.subplots_adjust(wspace=0.3)\n",
    "\n",
    "plt.sca(ax[0])\n",
    "plt.imshow(fbp_noise, cmap='binary', vmin=0, vmax=1, interpolation='None')\n",
    "plt.title('FBP')\n",
    "\n",
    "plt.sca(ax[1])\n",
    "plt.imshow(x_art, cmap='binary', vmin=0, vmax=1, interpolation='None')\n",
    "plt.title('ART');"
   ]
  },
  {
   "cell_type": "markdown",
   "metadata": {
    "slideshow": {
     "slide_type": "slide"
    }
   },
   "source": [
    "# Tomography in Accelerator Physics\n",
    "\n",
    "Longitudinal phase space reconstruction:\n",
    "\n",
    "<div style=\"float: left; width:23%;\">\n",
    "<img src=\"img/distr_ini.png\" style=\"width:100%;\" />\n",
    "<img src=\"img/waterfall.png\" style=\"width:100%;\" />\n",
    "<img src=\"img/distr_fin2.png\" style=\"width:100%;\" />\n",
    "</div>\n",
    "<img src=\"img/tomo_sim_out.png\" style=\"float: left; width:43%; margin-left:10%;\" />"
   ]
  },
  {
   "cell_type": "markdown",
   "metadata": {
    "slideshow": {
     "slide_type": "slide"
    }
   },
   "source": [
    "# Summary\n",
    "\n",
    "- Radon transform\n",
    "- Tomographic reconstruction algorithms:\n",
    "    - filtered back-projection\n",
    "    - iterative: algebraic reconstruction technique\n",
    "\n",
    "<br />\n",
    "\n",
    "$\\implies$ Go ahead, try out the <a href=\"./acc-tomo.ipynb\">accelerator physics example $\\nearrow$</a>\n",
    "\n",
    "Further literature:\n",
    "[Chapter 3 of A. C. Kak and Malcolm Slaney, Principles of Computerized Tomographic Imaging, Society of Industrial and Applied Mathematics, 2001](https://engineering.purdue.edu/~malcolm/pct/CTI_Ch03.pdf)"
   ]
  }
 ],
 "metadata": {
  "celltoolbar": "Slideshow",
  "kernelspec": {
   "display_name": "Python 3",
   "language": "python",
   "name": "python3"
  },
  "language_info": {
   "codemirror_mode": {
    "name": "ipython",
    "version": 3
   },
   "file_extension": ".py",
   "mimetype": "text/x-python",
   "name": "python",
   "nbconvert_exporter": "python",
   "pygments_lexer": "ipython3",
   "version": "3.7.3"
  },
  "rise": {
   "enable_chalkboard": true,
   "scroll": true,
   "transition": "fade"
  }
 },
 "nbformat": 4,
 "nbformat_minor": 4
}
